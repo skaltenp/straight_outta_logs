{
 "cells": [
  {
   "cell_type": "code",
   "execution_count": null,
   "metadata": {},
   "outputs": [],
   "source": [
    "import os\n",
    "import re\n",
    "import shutil\n",
    "import random\n",
    "\n",
    "import numpy as np \n",
    "import pandas as pd \n",
    "\n",
    "from datasets import Dataset, DatasetDict, load_dataset \n",
    "from huggingface_hub import login\n",
    "login(\"YOURTOKENHERE\", add_to_git_credential=True)\n",
    "import pm4py\n",
    "from sklearn.model_selection import train_test_split\n",
    "import xml.etree.ElementTree as ET"
   ]
  },
  {
   "cell_type": "code",
   "execution_count": null,
   "metadata": {},
   "outputs": [],
   "source": [
    "def secure_listdir(path, rm_list=[\".ipynb_checkpoints\", \".DS_Store\"]):\n",
    "    files_list = os.listdir(path)\n",
    "    for rm_file in rm_list:\n",
    "        if rm_file in files_list:\n",
    "            files_list.remove(rm_file)\n",
    "    return files_list"
   ]
  },
  {
   "cell_type": "code",
   "execution_count": null,
   "metadata": {},
   "outputs": [],
   "source": [
    "data_path = \"data\"\n",
    "data_files = secure_listdir(data_path)\n",
    "data_files = [x for x in data_files if \".txt\" not in x]\n",
    "print(data_files)"
   ]
  },
  {
   "cell_type": "code",
   "execution_count": null,
   "metadata": {},
   "outputs": [],
   "source": [
    "RANDOM_SEED = 42\n",
    "random.seed(RANDOM_SEED)\n",
    "np.random.seed(RANDOM_SEED)\n",
    "RANDOM_SEEDS = list(np.random.randint(0, 999999999, 5))\n",
    "RANDOM_SEEDS"
   ]
  },
  {
   "cell_type": "code",
   "execution_count": null,
   "metadata": {},
   "outputs": [],
   "source": [
    "DATA_COLUMNS = [\"file\", \"trace_id\", \"trace_text\", \"event_list\"]\n",
    "for data_file in [x for x in data_files if x not in []]:\n",
    "    log_path = os.path.join(data_path, data_file)\n",
    "    tree = ET.parse(log_path)\n",
    "    root = tree.getroot()\n",
    "    data = []\n",
    "    for child in root:\n",
    "        if child.tag == \"trace\":\n",
    "            trace_text = \"\\t\" + str(ET.tostring(child, encoding='utf-8'), encoding=\"utf-8\")\n",
    "            trace_id = re.search(r'key\\=\"concept\\:name\" value\\=\"([A-Za-z0-9\\-\\.\\(\\)\\, ]+)\"', trace_text).group(1)\n",
    "            event_list = [x.lstrip(\"\\n\") + \"</event>\" for x in re.split(r\"</event>\", trace_text) if \"</trace>\" not in x]\n",
    "            event_list[-1] = event_list[-1] + \"\\n\\t</trace>\"\n",
    "            data.append([data_file, trace_id, trace_text, event_list])\n",
    "        if child.tag == \"{http://www.xes-standard.org/}trace\":\n",
    "            trace_text = \"\\t\" + str(ET.tostring(child, encoding='utf-8'), encoding=\"utf-8\")\n",
    "            trace_id = re.search(r'key\\=\"concept\\:name\" value\\=\"([A-Za-z0-9\\-\\.\\(\\)\\, ]+)\"', trace_text).group(1)\n",
    "            event_list = [x.lstrip(\"\\n\") + \"</ns0:event>\" for x in re.split(r\"</ns0:event>\", trace_text)]\n",
    "            event_list = event_list[:-1]\n",
    "            event_list[-1] = event_list[-1] + \"\\n\\t</ns0:trace>\"\n",
    "            data.append([data_file, trace_id, trace_text, event_list])\n",
    "            raise\n",
    "    data_df = pd.DataFrame(data, columns=DATA_COLUMNS)\n",
    "    use_case = data_file.replace('.xes', '').lower()\n",
    "    ds = Dataset.from_pandas(data_df, preserve_index=False, split=\"train\")\n",
    "    print(ds)\n",
    "    ds.push_to_hub(use_case, private=True)"
   ]
  }
 ],
 "metadata": {
  "kernelspec": {
   "display_name": "textworld",
   "language": "python",
   "name": "python3"
  },
  "language_info": {
   "codemirror_mode": {
    "name": "ipython",
    "version": 3
   },
   "file_extension": ".py",
   "mimetype": "text/x-python",
   "name": "python",
   "nbconvert_exporter": "python",
   "pygments_lexer": "ipython3",
   "version": "3.11.5"
  }
 },
 "nbformat": 4,
 "nbformat_minor": 2
}
